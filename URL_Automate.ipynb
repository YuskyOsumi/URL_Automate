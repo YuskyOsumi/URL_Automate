{
 "cells": [
  {
   "cell_type": "code",
   "execution_count": 2,
   "metadata": {},
   "outputs": [
    {
     "name": "stdout",
     "output_type": "stream",
     "text": [
      "このページからURLは検出されませんでした。\n"
     ]
    }
   ],
   "source": [
    "#コピーしたページのすべてのURLリンクのタブを開くコード\n",
    "import pyperclip,re,webbrowser\n",
    "site_text=str(pyperclip.paste())\n",
    "matches=[]\n",
    "url_regex=re.compile(r\"((http|https)+(://)([-\\w]+\\.)+([-\\w])+(/[-\\ w./?%&=]*)?)\",re.VERBOSE)\n",
    "for groups in url_regex.findall(site_text):\n",
    "    matches.append(groups[0])\n",
    "if len(matches)>0:\n",
    "    webbrowser.open(groups[0])\n",
    "    print(\"このページからは\"+str(len(groups[0]))+\"件のURLが検出されました\")\n",
    "else:\n",
    "    print(\"このページからURLは検出されませんでした。\")"
   ]
  }
 ],
 "metadata": {
  "kernelspec": {
   "display_name": "Python 3",
   "language": "python",
   "name": "python3"
  },
  "language_info": {
   "codemirror_mode": {
    "name": "ipython",
    "version": 3
   },
   "file_extension": ".py",
   "mimetype": "text/x-python",
   "name": "python",
   "nbconvert_exporter": "python",
   "pygments_lexer": "ipython3",
   "version": "3.7.0"
  }
 },
 "nbformat": 4,
 "nbformat_minor": 2
}
